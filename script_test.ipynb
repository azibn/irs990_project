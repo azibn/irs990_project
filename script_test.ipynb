{
 "cells": [
  {
   "cell_type": "code",
   "execution_count": 4,
   "id": "78a0f069-550b-45e4-a29d-ca015d5c1a95",
   "metadata": {},
   "outputs": [],
   "source": [
    "import pandas as pd\n",
    "import pandas_read_xml as pdx\n",
    "import numpy as np\n",
    "import argparse\n",
    "import multiprocessing\n",
    "import glob\n",
    "import os\n",
    "#from irs import *"
   ]
  },
  {
   "cell_type": "code",
   "execution_count": 7,
   "id": "5f88ea21-3ca0-4f54-a186-2627733554e1",
   "metadata": {},
   "outputs": [],
   "source": [
    "import os"
   ]
  },
  {
   "cell_type": "code",
   "execution_count": 30,
   "id": "d7281261-18e2-4dee-bb03-03f5a9057095",
   "metadata": {},
   "outputs": [],
   "source": [
    "paths = ['download990xml_2017_1/']"
   ]
  },
  {
   "cell_type": "code",
   "execution_count": 31,
   "id": "edcef3e5-653f-4e7e-bf39-1b0a00de2eb1",
   "metadata": {},
   "outputs": [],
   "source": [
    "paths = []\n",
    "for path in paths:\n",
    "    paths.append(os.path.expanduser(path))\n"
   ]
  },
  {
   "cell_type": "code",
   "execution_count": 32,
   "id": "34f235e0-403e-416f-afa3-e65ddf468c2e",
   "metadata": {},
   "outputs": [
    {
     "data": {
      "text/plain": [
       "[]"
      ]
     },
     "execution_count": 32,
     "metadata": {},
     "output_type": "execute_result"
    }
   ],
   "source": [
    "paths"
   ]
  },
  {
   "cell_type": "code",
   "execution_count": 39,
   "id": "6d9d0421-06d1-4a26-be44-7b276f808c09",
   "metadata": {},
   "outputs": [],
   "source": [
    "import pandas_read_xml as pdx"
   ]
  },
  {
   "cell_type": "code",
   "execution_count": 49,
   "id": "1ba44082-d02a-4f13-b9d8-306e5cdc674b",
   "metadata": {},
   "outputs": [],
   "source": [
    "data = pdx.read_xml('download990xml_2015_1/201502549349100005_public.xml',['Return'])"
   ]
  },
  {
   "cell_type": "code",
   "execution_count": 103,
   "id": "b091abfd-2189-4166-a51e-586b7cd98cbb",
   "metadata": {},
   "outputs": [],
   "source": [
    "def get_columns_990PF(path):\n",
    "    print(\"path is \", path)\n",
    "    df = pdx.read_xml(path, [\"Return\"])\n",
    "    data = pdx.fully_flatten(df)\n",
    "    ## if columns don't exist, return them with an empty entry. If there is an easier way to do this, please let me know!\n",
    "    if \"ReturnHeader|Filer|EIN\" not in data.columns:\n",
    "        data[\"ReturnHeader|Filer|EIN\"] = None\n",
    "    if \"ReturnHeader|Filer|BusinessNameControlTxt\" not in data.columns:\n",
    "        data[\"ReturnHeader|Filer|BusinessNameControlTxt\"] = None\n",
    "    if \"ReturnHeader|BusinessOfficerGrp|PersonNm\" not in data.columns:\n",
    "        data[\"ReturnHeader|BusinessOfficerGrp|PersonNm\"] = None\n",
    "    if \"ReturnHeader|BusinessOfficerGrp|PersonTitleTxt\" not in data.columns:\n",
    "        data[\"ReturnHeader|BusinessOfficerGrp|PersonTitleTxt\"] = None\n",
    "    if \"ReturnHeader|BusinessOfficerGrp|PhoneNum\" not in data.columns:\n",
    "        data[\"ReturnHeader|BusinessOfficerGrp|PhoneNum\"] = None\n",
    "    if \"ReturnHeader|BusinessOfficerGrp|SignatureDt\" not in data.columns:\n",
    "        data[\"ReturnHeader|BusinessOfficerGrp|SignatureDt\"] = None\n",
    "    if \"ReturnHeader|Filer|BusinessName|BusinessNameLine1Txt\" not in data.columns:\n",
    "        data[\"ReturnHeader|Filer|BusinessName|BusinessNameLine1Txt\"] = None\n",
    "    if \"ReturnHeader|Filer|USAddress|AddressLine1Txt\" not in data.columns:\n",
    "        data[\"ReturnHeader|Filer|USAddress|AddressLine1Txt\"] = None\n",
    "    if \"ReturnHeader|Filer|USAddress|CityNm\" not in data.columns:\n",
    "        data[\"ReturnHeader|Filer|USAddress|CityNm\"] = None\n",
    "    if \"ReturnHeader|Filer|USAddress|StateAbbreviationCd\" not in data.columns:\n",
    "        data[\"ReturnHeader|Filer|USAddress|StateAbbreviationCd\"] = None\n",
    "    if \"ReturnHeader|Filer|USAddress|ZIPCd\" not in data.columns:\n",
    "        data[\"ReturnHeader|Filer|USAddress|ZIPCd\"] = None\n",
    "    if \"ReturnHeader|TaxYr\" not in data.columns:\n",
    "        data[\"ReturnHeader|TaxYr\"] = None\n",
    "    if \"ReturnData|IRS990PF|AnalysisOfRevenueAndExpenses|TotalExpensesRevAndExpnssAmt\" not in data.columns:\n",
    "        data[\"ReturnData|IRS990PF|AnalysisOfRevenueAndExpenses|TotalExpensesRevAndExpnssAmt\"] = None\n",
    "    if \"ReturnData|IRS990PF|AnalysisOfRevenueAndExpenses|TotalExpensesNetInvstIncmAmt\" not in data.columns:\n",
    "        data[\"ReturnData|IRS990PF|AnalysisOfRevenueAndExpenses|TotalExpensesNetInvstIncmAmt\"] = None\n",
    "    if \"ReturnData|IRS990PF|AnalysisOfRevenueAndExpenses|TotalExpensesAdjNetIncmAmt\" not in data.columns:\n",
    "        data[\"ReturnData|IRS990PF|AnalysisOfRevenueAndExpenses|TotalExpensesAdjNetIncmAmt\"] = None\n",
    "    if \"ReturnData|IRS990PF|AnalysisOfRevenueAndExpenses|TotalExpensesDsbrsChrtblAmt\" not in data.columns:\n",
    "        data[\"ReturnData|IRS990PF|AnalysisOfRevenueAndExpenses|TotalExpensesDsbrsChrtblAmt\"] = None\n",
    "    if \"ReturnData|IRS990PF|Form990PFBalanceSheetsGrp|TotalAssetsBOYAmt\" not in data.columns:\n",
    "        data[\"ReturnData|IRS990PF|Form990PFBalanceSheetsGrp|TotalAssetsBOYAmt\"] = None\n",
    "    if \"ReturnData|IRS990PF|Form990PFBalanceSheetsGrp|TotalAssetsEOYAmt\" not in data.columns:\n",
    "        data[\"ReturnData|IRS990PF|Form990PFBalanceSheetsGrp|TotalAssetsEOYAmt\"] = None\n",
    "    if \"ReturnData|IRS990PF|OfficerDirTrstKeyEmplInfoGrp|OfficerDirTrstKeyEmplGrp|TitleTxt\" not in data.columns:\n",
    "        data[\"ReturnData|IRS990PF|OfficerDirTrstKeyEmplInfoGrp|OfficerDirTrstKeyEmplGrp|TitleTxt\"] = None\n",
    "    if \"ReturnData|IRS990PF|OfficerDirTrstKeyEmplInfoGrp|OfficerDirTrstKeyEmplGrp|AverageHrsPerWkDevotedToPosRt\" not in data.columns:\n",
    "        data[\"ReturnData|IRS990PF|OfficerDirTrstKeyEmplInfoGrp|OfficerDirTrstKeyEmplGrp|AverageHrsPerWkDevotedToPosRt\"] = None\n",
    "    if \"ReturnData|IRS990PF|OfficerDirTrstKeyEmplInfoGrp|OfficerDirTrstKeyEmplGrp|CompensationAmt\" not in data.columns:\n",
    "        data[\"ReturnData|IRS990PF|OfficerDirTrstKeyEmplInfoGrp|OfficerDirTrstKeyEmplGrp|CompensationAmt\"] = None\n",
    "    if \"ReturnData|IRS990PF|OfficerDirTrstKeyEmplInfoGrp|OfficerDirTrstKeyEmplGrp|BusinessName|BusinessNameLine1Txt\" not in data.columns:\n",
    "        data[\"ReturnData|IRS990PF|OfficerDirTrstKeyEmplInfoGrp|OfficerDirTrstKeyEmplGrp|BusinessName|BusinessNameLine1Txt\"] = None\n",
    "    if \"ReturnData|IRS990PF|OfficerDirTrstKeyEmplInfoGrp|OfficerDirTrstKeyEmplGrp|USAddress|AddressLine1Txt\" not in data.columns:\n",
    "        data[\"ReturnData|IRS990PF|OfficerDirTrstKeyEmplInfoGrp|OfficerDirTrstKeyEmplGrp|USAddress|AddressLine1Txt\"] = None\n",
    "    if \"ReturnData|IRS990PF|OfficerDirTrstKeyEmplInfoGrp|OfficerDirTrstKeyEmplGrp|USAddress|CityNm\" not in data.columns:\n",
    "        data[\"ReturnData|IRS990PF|OfficerDirTrstKeyEmplInfoGrp|OfficerDirTrstKeyEmplGrp|USAddress|CityNm\"] = None\n",
    "    if \"ReturnData|IRS990PF|OfficerDirTrstKeyEmplInfoGrp|OfficerDirTrstKeyEmplGrp|USAddress|StateAbbreviationCd\" not in data.columns:\n",
    "        data[\"ReturnData|IRS990PF|OfficerDirTrstKeyEmplInfoGrp|OfficerDirTrstKeyEmplGrp|USAddress|StateAbbreviationCd\"] = None\n",
    "    if \"ReturnData|IRS990PF|OfficerDirTrstKeyEmplInfoGrp|OfficerDirTrstKeyEmplGrp|USAddress|ZIPCd\" not in data.columns:\n",
    "        data[\"ReturnData|IRS990PF|OfficerDirTrstKeyEmplInfoGrp|OfficerDirTrstKeyEmplGrp|USAddress|ZIPCd\"] = None\n",
    "\n",
    "    extracted_data = data[\n",
    "        [\n",
    "            \"ReturnHeader|Filer|EIN\",\n",
    "            \"ReturnHeader|Filer|BusinessNameControlTxt\",\n",
    "            \"ReturnHeader|BusinessOfficerGrp|PersonNm\",\n",
    "            \"ReturnHeader|BusinessOfficerGrp|PersonTitleTxt\",\n",
    "            \"ReturnHeader|BusinessOfficerGrp|PhoneNum\",\n",
    "            \"ReturnHeader|BusinessOfficerGrp|SignatureDt\",\n",
    "            \"ReturnHeader|Filer|BusinessName|BusinessNameLine1Txt\",\n",
    "            \"ReturnHeader|Filer|USAddress|AddressLine1Txt\",\n",
    "            \"ReturnHeader|Filer|USAddress|CityNm\",\n",
    "            \"ReturnHeader|Filer|USAddress|StateAbbreviationCd\",\n",
    "            \"ReturnHeader|Filer|USAddress|ZIPCd\",\n",
    "            \"ReturnHeader|TaxYr\",\n",
    "            \"ReturnData|IRS990PF|AnalysisOfRevenueAndExpenses|TotalExpensesRevAndExpnssAmt\",\n",
    "            \"ReturnData|IRS990PF|AnalysisOfRevenueAndExpenses|TotalExpensesNetInvstIncmAmt\",\n",
    "            \"ReturnData|IRS990PF|AnalysisOfRevenueAndExpenses|TotalExpensesAdjNetIncmAmt\",\n",
    "            \"ReturnData|IRS990PF|AnalysisOfRevenueAndExpenses|TotalExpensesDsbrsChrtblAmt\",\n",
    "            \"ReturnData|IRS990PF|Form990PFBalanceSheetsGrp|TotalAssetsBOYAmt\",\n",
    "            \"ReturnData|IRS990PF|Form990PFBalanceSheetsGrp|TotalAssetsEOYAmt\",\n",
    "            \"ReturnData|IRS990PF|OfficerDirTrstKeyEmplInfoGrp|OfficerDirTrstKeyEmplGrp|TitleTxt\",\n",
    "            \"ReturnData|IRS990PF|OfficerDirTrstKeyEmplInfoGrp|OfficerDirTrstKeyEmplGrp|AverageHrsPerWkDevotedToPosRt\",\n",
    "            \"ReturnData|IRS990PF|OfficerDirTrstKeyEmplInfoGrp|OfficerDirTrstKeyEmplGrp|CompensationAmt\",\n",
    "            \"ReturnData|IRS990PF|OfficerDirTrstKeyEmplInfoGrp|OfficerDirTrstKeyEmplGrp|BusinessName|BusinessNameLine1Txt\",\n",
    "            \"ReturnData|IRS990PF|OfficerDirTrstKeyEmplInfoGrp|OfficerDirTrstKeyEmplGrp|USAddress|AddressLine1Txt\",\n",
    "            \"ReturnData|IRS990PF|OfficerDirTrstKeyEmplInfoGrp|OfficerDirTrstKeyEmplGrp|USAddress|CityNm\",\n",
    "            \"ReturnData|IRS990PF|OfficerDirTrstKeyEmplInfoGrp|OfficerDirTrstKeyEmplGrp|USAddress|StateAbbreviationCd\",\n",
    "            \"ReturnData|IRS990PF|OfficerDirTrstKeyEmplInfoGrp|OfficerDirTrstKeyEmplGrp|USAddress|ZIPCd\",\n",
    "        ]\n",
    "    ].drop_duplicates()\n",
    "    return extracted_data"
   ]
  },
  {
   "cell_type": "code",
   "execution_count": 105,
   "id": "b15ac507-3720-4ff1-b7ea-fe94da506ed7",
   "metadata": {},
   "outputs": [
    {
     "name": "stdout",
     "output_type": "stream",
     "text": [
      "path is  download990xml_2015_1/201502549349100005_public.xml\n"
     ]
    }
   ],
   "source": [
    "a = get_columns_990PF('download990xml_2015_1/201502549349100005_public.xml')"
   ]
  },
  {
   "cell_type": "code",
   "execution_count": 112,
   "id": "2419956f-36da-417b-8b79-a989498c2b3b",
   "metadata": {},
   "outputs": [],
   "source": [
    "if \"IRS990EZ\" in a.columns:\n",
    "    print(\"ez\")\n",
    "elif \"990PF\" in a.columns:\n",
    "    print(\"what I wanted\")"
   ]
  },
  {
   "cell_type": "code",
   "execution_count": 111,
   "id": "9b66e187-18dc-48b3-8e76-494652fc3df3",
   "metadata": {},
   "outputs": [
    {
     "data": {
      "text/plain": [
       "Index(['ReturnHeader|Filer|EIN', 'ReturnHeader|Filer|BusinessNameControlTxt',\n",
       "       'ReturnHeader|BusinessOfficerGrp|PersonNm',\n",
       "       'ReturnHeader|BusinessOfficerGrp|PersonTitleTxt',\n",
       "       'ReturnHeader|BusinessOfficerGrp|PhoneNum',\n",
       "       'ReturnHeader|BusinessOfficerGrp|SignatureDt',\n",
       "       'ReturnHeader|Filer|BusinessName|BusinessNameLine1Txt',\n",
       "       'ReturnHeader|Filer|USAddress|AddressLine1Txt',\n",
       "       'ReturnHeader|Filer|USAddress|CityNm',\n",
       "       'ReturnHeader|Filer|USAddress|StateAbbreviationCd',\n",
       "       'ReturnHeader|Filer|USAddress|ZIPCd', 'ReturnHeader|TaxYr',\n",
       "       'ReturnData|IRS990PF|AnalysisOfRevenueAndExpenses|TotalExpensesRevAndExpnssAmt',\n",
       "       'ReturnData|IRS990PF|AnalysisOfRevenueAndExpenses|TotalExpensesNetInvstIncmAmt',\n",
       "       'ReturnData|IRS990PF|AnalysisOfRevenueAndExpenses|TotalExpensesAdjNetIncmAmt',\n",
       "       'ReturnData|IRS990PF|AnalysisOfRevenueAndExpenses|TotalExpensesDsbrsChrtblAmt',\n",
       "       'ReturnData|IRS990PF|Form990PFBalanceSheetsGrp|TotalAssetsBOYAmt',\n",
       "       'ReturnData|IRS990PF|Form990PFBalanceSheetsGrp|TotalAssetsEOYAmt',\n",
       "       'ReturnData|IRS990PF|OfficerDirTrstKeyEmplInfoGrp|OfficerDirTrstKeyEmplGrp|TitleTxt',\n",
       "       'ReturnData|IRS990PF|OfficerDirTrstKeyEmplInfoGrp|OfficerDirTrstKeyEmplGrp|AverageHrsPerWkDevotedToPosRt',\n",
       "       'ReturnData|IRS990PF|OfficerDirTrstKeyEmplInfoGrp|OfficerDirTrstKeyEmplGrp|CompensationAmt',\n",
       "       'ReturnData|IRS990PF|OfficerDirTrstKeyEmplInfoGrp|OfficerDirTrstKeyEmplGrp|BusinessName|BusinessNameLine1Txt',\n",
       "       'ReturnData|IRS990PF|OfficerDirTrstKeyEmplInfoGrp|OfficerDirTrstKeyEmplGrp|USAddress|AddressLine1Txt',\n",
       "       'ReturnData|IRS990PF|OfficerDirTrstKeyEmplInfoGrp|OfficerDirTrstKeyEmplGrp|USAddress|CityNm',\n",
       "       'ReturnData|IRS990PF|OfficerDirTrstKeyEmplInfoGrp|OfficerDirTrstKeyEmplGrp|USAddress|StateAbbreviationCd',\n",
       "       'ReturnData|IRS990PF|OfficerDirTrstKeyEmplInfoGrp|OfficerDirTrstKeyEmplGrp|USAddress|ZIPCd'],\n",
       "      dtype='object')"
      ]
     },
     "execution_count": 111,
     "metadata": {},
     "output_type": "execute_result"
    }
   ],
   "source": [
    "a.columns"
   ]
  },
  {
   "cell_type": "code",
   "execution_count": null,
   "id": "5abd69e8-f076-41e9-86d3-3e8149d5911d",
   "metadata": {},
   "outputs": [],
   "source": []
  }
 ],
 "metadata": {
  "kernelspec": {
   "display_name": "irs",
   "language": "python",
   "name": "irs"
  },
  "language_info": {
   "codemirror_mode": {
    "name": "ipython",
    "version": 3
   },
   "file_extension": ".py",
   "mimetype": "text/x-python",
   "name": "python",
   "nbconvert_exporter": "python",
   "pygments_lexer": "ipython3",
   "version": "3.7.15"
  }
 },
 "nbformat": 4,
 "nbformat_minor": 5
}
